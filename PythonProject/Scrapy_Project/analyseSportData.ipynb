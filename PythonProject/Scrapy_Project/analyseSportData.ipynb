{
 "cells": [
  {
   "cell_type": "code",
   "execution_count": 1,
   "metadata": {},
   "outputs": [
    {
     "name": "stdout",
     "output_type": "stream",
     "text": [
      "D:\\PythonLearning\\Scrapy\\PythonProject\\Scrapy_Project\\football_Jleague_data_2024.csv\n"
     ]
    }
   ],
   "source": [
    "import os \n",
    "import numpy as np\n",
    "import pandas as pd\n",
    "import matplotlib as plt\n",
    "import re\n",
    "from functools import reduce\n",
    "\n",
    "filename='D:\\\\PythonLearning\\\\Scrapy\\\\PythonProject\\Scrapy_Project\\\\football_Jleague_data_2024.csv'\n",
    "#input('please key in the file name: ')\n",
    "print(filename)\n",
    "df =pd.read_csv(filename)\n",
    "df=df[df['DetailScore'] != \"('link error',)\"]\n",
    "df=df[df['status_match'] == \"FT\"]\n",
    "re_char={\"'\":\"\",\",\":\"\",\"(\":\"\",\")\":\"\",\";\":\" \",\"-\":\" \"}\n",
    "df['score']=df['DetailScore'].map(lambda a: (''.join(re_char.get(x, x) for x in str(a))) )\n",
    "df['MaximumGoal']= df['score'].apply(lambda a : max(map(int,[e for e in re.split(\"[^0-9]\",str(a)) if e !='']),default=0))\n",
    "df['Over70']= df['score'].apply(lambda a :any(int(item)>70 for item in str(a).split()))\n",
    "df['Over90']= df['score'].apply(lambda a :any(int(item)>=90 for item in str(a).split()))\n",
    "\n",
    "df['NOGoalH2']=df['MaximumGoal'].map(lambda a : int(a)<=45)\n",
    "df['index']=df['round_match'].apply(lambda round: round.split()[1].replace(\" \",\"\"))\n",
    "\n",
    "# #print(df['index'])\n",
    "df['index']=pd.to_numeric(df['index'])\n",
    "\n",
    "df_sorted=df.sort_values(by=['index'],ascending=False)\n",
    "# Add a new column called \"HTGoalCount\" to df\n",
    "df_sorted['HTGoal'] = df_sorted['HTResult'].map(lambda a: (''.join(re_char.get(x, x) for x in str(a))))\n",
    "df_sorted['HTGoalCount']=df_sorted['HTGoal'].map(lambda x: sum(int(y) for y in x if y.isdigit()))\n",
    "\n"
   ]
  },
  {
   "cell_type": "code",
   "execution_count": 2,
   "metadata": {},
   "outputs": [],
   "source": [
    "df_sorted['TimeHomeScrore']=df_sorted['TimeHomeScrore'].map(lambda a: (''.join(re_char.get(x, x) for x in str(a))) )\n",
    "df_sorted['HomeScore']=df_sorted['TimeHomeScrore'].str.count('\\d+')\n",
    "df_sorted['TimeAwayScrore']=df_sorted['TimeAwayScrore'].map(lambda a: (''.join(re_char.get(x, x) for x in str(a))) )\n",
    "df_sorted['AwayScore']=df_sorted['TimeAwayScrore'].str.count('\\d+')\n",
    "\n",
    "df_sorted['HomeWin'] = df_sorted['HomeScore'] > df_sorted['AwayScore']\n",
    "df_sorted['AwayWin'] = df_sorted['AwayScore'] > df_sorted['HomeScore']\n",
    "df_sorted['Draw']=df_sorted['AwayScore'] == df_sorted['HomeScore']\n",
    "df_sorted['HT_NoGoal']=df_sorted['HTGoalCount']<1\n",
    "\n",
    "\n"
   ]
  },
  {
   "cell_type": "code",
   "execution_count": 3,
   "metadata": {},
   "outputs": [
    {
     "name": "stdout",
     "output_type": "stream",
     "text": [
      "      round_match       Over70 round_match       NOGoalH2 round_match        \n",
      "            False True               False True                 False True   \n",
      "index                                                                        \n",
      "1               6    4  Over70           9    1  NOGoalH2           9    1  \\\n",
      "2               2    8  Over70           9    1  NOGoalH2           8    2   \n",
      "3               5    5  Over70           6    4  NOGoalH2           5    5   \n",
      "4               6    4  Over70           9    1  NOGoalH2           8    2   \n",
      "5               3    7  Over70           9    1  NOGoalH2           3    7   \n",
      "6               6    4  Over70           6    4  NOGoalH2           7    3   \n",
      "7               3    7  Over70           8    2  NOGoalH2           6    4   \n",
      "8               3    7  Over70           8    2  NOGoalH2           6    4   \n",
      "9               4    5  Over70           7    2  NOGoalH2           7    2   \n",
      "10              6    4  Over70           8    2  NOGoalH2           8    2   \n",
      "\n",
      "       HomeWin round_match  ...  AwayWin round_match       Draw round_match   \n",
      "                     False  ...                False True             False   \n",
      "index                       ...                                               \n",
      "1      HomeWin         5.0  ...  AwayWin           6    4  Draw           8  \\\n",
      "2      HomeWin         5.0  ...  AwayWin           7    3  Draw           8   \n",
      "3      HomeWin         6.0  ...  AwayWin           9    1  Draw           7   \n",
      "4      HomeWin         5.0  ...  AwayWin           7    3  Draw           9   \n",
      "5      HomeWin        10.0  ...  AwayWin           7    3  Draw           6   \n",
      "6      HomeWin         7.0  ...  AwayWin           6    4  Draw           9   \n",
      "7      HomeWin         6.0  ...  AwayWin           8    2  Draw           8   \n",
      "8      HomeWin         8.0  ...  AwayWin           6    4  Draw           7   \n",
      "9      HomeWin         5.0  ...  AwayWin           6    3  Draw           8   \n",
      "10     HomeWin         7.0  ...  AwayWin           5    5  Draw           7   \n",
      "\n",
      "            Over90 round_match       HT_NoGoal  \n",
      "      True               False True             \n",
      "index                                           \n",
      "1        2  Over90           8    2  HT_NoGoal  \n",
      "2        2  Over90           5    5  HT_NoGoal  \n",
      "3        3  Over90           6    4  HT_NoGoal  \n",
      "4        1  Over90           7    3  HT_NoGoal  \n",
      "5        4  Over90           7    3  HT_NoGoal  \n",
      "6        1  Over90           5    5  HT_NoGoal  \n",
      "7        2  Over90           3    7  HT_NoGoal  \n",
      "8        3  Over90           7    3  HT_NoGoal  \n",
      "9        1  Over90           4    5  HT_NoGoal  \n",
      "10       3  Over90           7    3  HT_NoGoal  \n",
      "\n",
      "[10 rows x 21 columns]\n"
     ]
    }
   ],
   "source": [
    "match=df_sorted #[df_sorted['Over70']==True]\n",
    "\n",
    "matchover70byround=match.groupby(['round_match','index','Over70']).count()['FTResult'].unstack().fillna(0)\n",
    "matchNoGoalH2byround=match.groupby(['round_match','index','NOGoalH2']).count()['FTResult'].unstack().fillna(0)\n",
    "matchover70byround.sort_values(by='index')\n",
    "#print(matchNoGoalH2byround.sort_values(by='index'))\n",
    "#matchNoGoalH2byround.info()\n",
    "over70=match[['round_match','index','Over70']].groupby(['index','Over70']).count().unstack().fillna(0)\n",
    "over90=match[['round_match','index','Over90']].groupby(['index','Over90']).count().unstack().fillna(0)\n",
    "GoalH2=match[['round_match','index','NOGoalH2']].groupby(['index','NOGoalH2']).count().unstack().fillna(0)\n",
    "HomeWin=match[['round_match','index','HomeWin']].groupby(['index','HomeWin']).count().unstack().fillna(0)\n",
    "AwayWin=match[['round_match','index','AwayWin']].groupby(['index','AwayWin']).count().unstack().fillna(0)\n",
    "Draw=match[['round_match','index','Draw']].groupby(['index','Draw']).count().unstack().fillna(0)\n",
    "HT_NoGoal=match[['round_match','index','HT_NoGoal']].groupby(['index','HT_NoGoal']).count().unstack().fillna(0)\n",
    "#over70['key1']=over70.index\n",
    "over70['Over70']='Over70'\n",
    "over90['Over90']='Over90'\n",
    "#GoalH2['key2']=GoalH2.index\n",
    "GoalH2['NOGoalH2']='NOGoalH2'\n",
    "HomeWin['HomeWin']='HomeWin'\n",
    "AwayWin['AwayWin']='AwayWin'\n",
    "Draw['Draw']='Draw'\n",
    "HT_NoGoal['HT_NoGoal']='HT_NoGoal'\n",
    "# print(over70.sort_values(by='index'))\n",
    "# print(GoalH2.sort_values(by='index'))\n",
    "result=pd.concat(\n",
    "                [   \n",
    "                    over70.sort_values(by='index'),\n",
    "                    GoalH2.sort_values(by='index'),\n",
    "                    HomeWin.sort_values(by='index'),\n",
    "                    AwayWin.sort_values(by='index'),\n",
    "                    Draw.sort_values(by='index'),\n",
    "                    over90.sort_values(by='index'),\n",
    "                    HT_NoGoal.sort_values(by='index')\n",
    "                ],axis=1,join=\"inner\")\n",
    "print(result)\n",
    "# export to excel file\n",
    "result.to_excel('1_output_.xlsx')\n",
    "\n",
    "\n"
   ]
  }
 ],
 "metadata": {
  "kernelspec": {
   "display_name": "Python 3",
   "language": "python",
   "name": "python3"
  },
  "language_info": {
   "codemirror_mode": {
    "name": "ipython",
    "version": 3
   },
   "file_extension": ".py",
   "mimetype": "text/x-python",
   "name": "python",
   "nbconvert_exporter": "python",
   "pygments_lexer": "ipython3",
   "version": "3.10.11"
  },
  "orig_nbformat": 4
 },
 "nbformat": 4,
 "nbformat_minor": 2
}
