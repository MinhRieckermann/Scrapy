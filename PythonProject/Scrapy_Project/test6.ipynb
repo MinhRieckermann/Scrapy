{
 "cells": [
  {
   "cell_type": "code",
   "execution_count": 1,
   "metadata": {},
   "outputs": [
    {
     "name": "stdout",
     "output_type": "stream",
     "text": [
      "Over70      False  True \n",
      "time_match              \n",
      "01/01/22      1.0    1.0\n",
      "02/01/22      1.0    1.0\n",
      "03/12/21      1.0    1.0\n",
      "04/12/21      1.0    1.0\n",
      "05/01/22      1.0    0.0\n",
      "05/12/21      1.0    0.0\n",
      "07/01/22      1.0    0.0\n",
      "08/01/22      1.0    1.0\n",
      "09/01/22      1.0    1.0\n",
      "10/12/21      0.0    2.0\n",
      "11/12/21      1.0    0.0\n",
      "12/12/21      0.0    2.0\n",
      "15/01/22      0.0    2.0\n",
      "17/12/21      0.0    1.0\n",
      "18/12/21      1.0    2.0\n",
      "19/12/21      1.0    0.0\n",
      "23/12/21      0.0    1.0\n",
      "26/12/21      0.0    1.0\n",
      "27/12/21      1.0    1.0\n",
      "30/12/21      1.0    0.0\n"
     ]
    }
   ],
   "source": [
    "import os \n",
    "import numpy as np\n",
    "import pandas as pd\n",
    "import matplotlib as plt\n",
    "from functools import reduce\n",
    "\n",
    "filename='D:\\\\PythonLearning\\\\Scrapy\\\\PythonProject\\\\Scrapy_Project\\\\football_WomenAustraliaLeague_data.csv'\n",
    "df =pd.read_csv(filename)\n",
    "df=df[df['DetailScore'] != \"('link error',)\"]\n",
    "re_char={\"'\":\"\",\",\":\"\",\"(\":\"\",\")\":\"\",\";\":\" \",\"-\":\" \"}\n",
    "df['score']=df['DetailScore'].map(lambda a: (''.join(re_char.get(x, x) for x in str(a))) )\n",
    "df['Over70']= df['score'].apply(lambda a :any(int(item)>70 for item in str(a).split()))\n",
    "#df['index']=df['round_match'].apply(lambda round: round.split()[1].replace(\" \",\"\"))\n",
    "#print(df['index'])\n",
    "#df['index']=pd.to_numeric(df['index'])\n",
    "\n",
    "#df_sorted=df.sort_values(by=['index'],ascending=False)\n",
    "#df_sorted.head(5)\n",
    "\n",
    "match=df #[df_sorted['Over70']==True]\n",
    "matchover70byround=match.groupby(['time_match','Over70']).count()['FTResult'].unstack().fillna(0)\n",
    "#matchover70byround.sort_values(by='index')\n",
    "\n",
    "print (matchover70byround.head(25))"
   ]
  },
  {
   "cell_type": "code",
   "execution_count": null,
   "metadata": {},
   "outputs": [],
   "source": []
  }
 ],
 "metadata": {
  "interpreter": {
   "hash": "2db524e06e9f5f4ffedc911c917cb75e12dbc923643829bf417064a77eb14d37"
  },
  "kernelspec": {
   "display_name": "Python 3.8.2 64-bit",
   "language": "python",
   "name": "python3"
  },
  "language_info": {
   "codemirror_mode": {
    "name": "ipython",
    "version": 3
   },
   "file_extension": ".py",
   "mimetype": "text/x-python",
   "name": "python",
   "nbconvert_exporter": "python",
   "pygments_lexer": "ipython3",
   "version": "3.8.2"
  },
  "orig_nbformat": 4
 },
 "nbformat": 4,
 "nbformat_minor": 2
}
