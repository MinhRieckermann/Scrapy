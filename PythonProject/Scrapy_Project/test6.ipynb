{
 "cells": [
  {
   "cell_type": "code",
   "execution_count": 1,
   "metadata": {},
   "outputs": [
    {
     "name": "stdout",
     "output_type": "stream",
     "text": [
      "Over70      False  True \n",
      "time_match              \n",
      "01/12/22      3.0    1.0\n",
      "02/12/22      2.0    2.0\n",
      "03/12/22      1.0    2.0\n",
      "04/12/22      0.0    2.0\n",
      "05/12/22      2.0    0.0\n",
      "06/12/22      1.0    1.0\n",
      "07/12/22      0.0    1.0\n",
      "09/12/22      0.0    1.0\n",
      "10/12/22      1.0    1.0\n",
      "11/12/22      0.0    1.0\n",
      "14/12/22      1.0    0.0\n",
      "15/12/22      0.0    1.0\n",
      "17/12/22      1.0    0.0\n",
      "18/12/22      0.0    1.0\n",
      "20/11/22      1.0    0.0\n",
      "21/11/22      0.0    2.0\n",
      "22/11/22      3.0    1.0\n",
      "23/11/22      1.0    3.0\n",
      "24/11/22      3.0    1.0\n",
      "25/11/22      1.0    3.0\n",
      "26/11/22      2.0    2.0\n",
      "27/11/22      0.0    4.0\n",
      "28/11/22      2.0    2.0\n",
      "29/11/22      2.0    1.0\n",
      "30/11/22      4.0    0.0\n"
     ]
    }
   ],
   "source": [
    "import os \n",
    "import numpy as np\n",
    "import pandas as pd\n",
    "import xlsxwriter\n",
    "import matplotlib as plt\n",
    "from functools import reduce\n",
    "\n",
    "filename='D:\\\\PythonLearning\\\\Scrapy\\\\PythonProject\\\\Scrapy_Project\\\\football_Worldcup2022_data.csv'\n",
    "df =pd.read_csv(filename)\n",
    "df=df[df['DetailScore'] != \"('link error',)\"]\n",
    "re_char={\"'\":\"\",\",\":\"\",\"(\":\"\",\")\":\"\",\";\":\" \",\"-\":\" \"}\n",
    "df['score']=df['DetailScore'].map(lambda a: (''.join(re_char.get(x, x) for x in str(a))) )\n",
    "df['Over70']= df['score'].apply(lambda a :any(int(item)>70 for item in str(a).split()))\n",
    "#df['index']=df['round_match'].apply(lambda round: round.split()[1].replace(\" \",\"\"))\n",
    "#print(df['index'])\n",
    "#df['index']=pd.to_numeric(df['index'])\n",
    "\n",
    "#df_sorted=df.sort_values(by=['index'],ascending=False)\n",
    "#df_sorted.head(5)\n",
    "\n",
    "match=df #[df_sorted['Over70']==True]\n",
    "matchover70byround=match.groupby(['time_match','Over70']).count()['FTResult'].unstack().fillna(0)\n",
    "#matchover70byround.sort_values(by='index')\n",
    "\n",
    "print (matchover70byround)\n",
    "matchover70byround.to_excel('output1.xlsx', engine='xlsxwriter')"
   ]
  }
 ],
 "metadata": {
  "kernelspec": {
   "display_name": "Python 3.8.2 64-bit",
   "language": "python",
   "name": "python3"
  },
  "language_info": {
   "codemirror_mode": {
    "name": "ipython",
    "version": 3
   },
   "file_extension": ".py",
   "mimetype": "text/x-python",
   "name": "python",
   "nbconvert_exporter": "python",
   "pygments_lexer": "ipython3",
   "version": "3.8.2 (tags/v3.8.2:7b3ab59, Feb 25 2020, 23:03:10) [MSC v.1916 64 bit (AMD64)]"
  },
  "orig_nbformat": 4,
  "vscode": {
   "interpreter": {
    "hash": "9650cb4e16cdd4a8e8e2d128bf38d875813998db22a3c986335f89e0cb4d7bb2"
   }
  }
 },
 "nbformat": 4,
 "nbformat_minor": 2
}
