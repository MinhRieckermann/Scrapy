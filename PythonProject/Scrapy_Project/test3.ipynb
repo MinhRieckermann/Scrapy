{
 "cells": [
  {
   "cell_type": "code",
   "execution_count": 1,
   "metadata": {},
   "outputs": [],
   "source": [
    "from selenium import webdriver\n",
    "from selenium.webdriver.chrome import options\n",
    "from selenium.webdriver.chrome.options import Options\n",
    "from selenium.webdriver.common.keys import Keys\n",
    "from selenium.webdriver.common.by import By\n",
    "from selenium.webdriver.support.ui import WebDriverWait\n",
    "from selenium.webdriver.support import expected_conditions as EC\n",
    "from selenium.webdriver.common.action_chains import ActionChains\n",
    "from shutil import which\n",
    "import csv\n",
    "\n",
    "\n",
    "chrome_options=Options()\n",
    "#chrome_options.add_argument(\"--headless\")\n",
    "chrome_path=which(\"chromedriver\")\n",
    "driver=webdriver.Chrome(executable_path=chrome_path,options=chrome_options)"
   ]
  },
  {
   "cell_type": "code",
   "execution_count": 6,
   "metadata": {},
   "outputs": [
    {
     "name": "stdout",
     "output_type": "stream",
     "text": [
      "[{'name': 'Acacia Hill School', 'ph_address': '80 Spearwood Rd, NT, Alice Springs, 0870', 'po_address': 'PO Box 435, NT, ALICE SPRINGS, 0871', 'phone': '(08) 895 52222'}, {'name': 'Adelaide River School', 'ph_address': '31 Memorial Tce, NT, Adelaide River, 0846', 'po_address': 'C/- Post Office, NT, Adelaide River, 0846', 'phone': '(08) 8976 7034'}, {'name': 'Alawa Primary School', 'ph_address': '27 Pett Street, NT, Alawa, 0810', 'po_address': 'PO Box 40446, NT, Casuarina, 0811', 'phone': '(08) 899 77666'}]\n"
     ]
    }
   ],
   "source": [
    "# driver.get('https://web.archive.org/web/20211018201255/https://www.lazada.com.ph/#hp-just-for-you')\n",
    "\n",
    "# link_elements = WebDriverWait(driver, 100).until(\n",
    "#         EC.presence_of_all_elements_located((By.XPATH, \"//div[contains(@class,'card-jfy-item-wrapper')]/a\"))\n",
    "#     )\n",
    "driver.get('https://directory.ntschools.net/#/schools')\n",
    "\n",
    "selector='#search-panel-container .nav-link'\n",
    "\n",
    "link_elements = WebDriverWait(driver, 60).until(\n",
    "        EC.presence_of_all_elements_located((By.CSS_SELECTOR, selector))\n",
    "    )\n",
    "#link_elements=driver.find_element_by_xpath(xpath)\n",
    "# for link in link_elements:\n",
    "#     print(link.text)\n",
    "school_name_selector = '//div[@class=\"school-title\"]/h1'\n",
    "results = []\n",
    "for i in range(3):#link_elements\n",
    "    link_elements = WebDriverWait(driver, 60).until(\n",
    "        EC.presence_of_all_elements_located((By.CSS_SELECTOR, selector))\n",
    "    )\n",
    "    \n",
    "    link_elements[i].click()\n",
    "    name_e=WebDriverWait(driver, 10).until(\n",
    "        EC.presence_of_element_located((By.XPATH, school_name_selector))\n",
    "    )\n",
    "    \n",
    "    details = {\n",
    "        'name': name_e.text,\n",
    "        'ph_address': driver.find_element_by_xpath('//div[text()=\"Physical Address\"]/following-sibling::div').text,\n",
    "        'po_address': driver.find_element_by_xpath('//*[text()=\"Postal Address\"]/following-sibling::*').text,\n",
    "        'phone': driver.find_element_by_xpath('//*[text()=\"Phone\"]/following-sibling::*/a').text,\n",
    "    }\n",
    "    results.append(details)\n",
    "    driver.back()\n",
    "print(results)\n",
    "driver.quit()\n",
    "\n",
    "with open('schools_data.csv', 'w', newline='', encoding='utf-8') as f:\n",
    "    writer = csv.DictWriter(f,\n",
    "                            fieldnames=['name', 'ph_address', 'po_address', 'phone'])\n",
    "    writer.writeheader()\n",
    "    writer.writerows(results)\n",
    "    #href=link_el.get_attribute(\"href\")\n",
    "           \n",
    "    ##print(href)\n",
    "    #link.append(href)\n",
    "#driver.quit()\n",
    "#link"
   ]
  },
  {
   "cell_type": "code",
   "execution_count": 3,
   "metadata": {},
   "outputs": [
    {
     "name": "stdout",
     "output_type": "stream",
     "text": [
      "https://www.lazada.com.ph/products/tresemme-keratin-smooth-shampoo-conditioner-travel-kit-i147298547-s172406409.html?abtest=&pvid=44ff2ae3-7e9c-4912-bb02-c36dcb733cfa&pos=1&abbucket=&clickTrackInfo=pvid%3A44ff2ae3-7e9c-4912-bb02-c36dcb733cfa&acm=icms-zebra-5000377-2586233.1003.1.2262802&scm=1007.17519.97321.0\n",
      "https://www.lazada.com.ph/products/doctor-herbal-skin-underarm-whitening-i150613006-s177249546.html?abtest=&pvid=44ff2ae3-7e9c-4912-bb02-c36dcb733cfa&pos=2&abbucket=&clickTrackInfo=pvid%3A44ff2ae3-7e9c-4912-bb02-c36dcb733cfa&acm=icms-zebra-5000377-2586233.1003.1.2262802&scm=1007.17519.97321.0\n",
      "https://www.lazada.com.ph/products/12-for-beginners-makeup-full-set-blush-brush-powder-foundation-brush-i128047230-s137539971.html?abtest=&pvid=44ff2ae3-7e9c-4912-bb02-c36dcb733cfa&pos=3&abbucket=&clickTrackInfo=pvid%3A44ff2ae3-7e9c-4912-bb02-c36dcb733cfa&acm=icms-zebra-5000377-2586233.1003.1.2262802&scm=1007.17519.97321.0\n",
      "https://www.lazada.com.ph/products/aft-a-901-aircon-fan-air-conditioning-fan-evaporative-air-cooler-i160314651-s195348015.html?abtest=&pvid=44ff2ae3-7e9c-4912-bb02-c36dcb733cfa&pos=4&abbucket=&clickTrackInfo=pvid%3A44ff2ae3-7e9c-4912-bb02-c36dcb733cfa&acm=icms-zebra-5000377-2586233.1003.1.2262802&scm=1007.17519.97321.0\n",
      "https://www.lazada.com.ph/products/bosch-gsb-180li-cordless-18v-li-ion-impact-drill-new-i126934410-s133347913.html?abtest=&pvid=44ff2ae3-7e9c-4912-bb02-c36dcb733cfa&pos=5&abbucket=&clickTrackInfo=pvid%3A44ff2ae3-7e9c-4912-bb02-c36dcb733cfa&acm=icms-zebra-5000377-2586233.1003.1.2262802&scm=1007.17519.97321.0\n",
      "https://www.lazada.com.ph/products/motocross-racing-motorcycle-armor-protective-jacket-medium-black-i147289853-s172394671.html?abtest=&pvid=44ff2ae3-7e9c-4912-bb02-c36dcb733cfa&pos=6&abbucket=&clickTrackInfo=pvid%3A44ff2ae3-7e9c-4912-bb02-c36dcb733cfa&acm=icms-zebra-5000377-2586233.1003.1.2262802&scm=1007.17519.97321.0\n",
      "https://www.lazada.com.ph/products/seiko-skx007j1-skx007-made-in-japan-automatic-200m-divers-watch-intl-i106475973-s107193529.html?abtest=&pvid=44ff2ae3-7e9c-4912-bb02-c36dcb733cfa&pos=7&abbucket=&clickTrackInfo=pvid%3A44ff2ae3-7e9c-4912-bb02-c36dcb733cfa&acm=icms-zebra-5000377-2586233.1003.1.2262802&scm=1007.17519.97321.0\n",
      "https://www.lazada.com.ph/products/nitecore-i4-v2014-universal-intelligent-charger-for-four-batteries-compatible-with-imrli-ion-black-i6988241-s8883573.html?abtest=&pvid=44ff2ae3-7e9c-4912-bb02-c36dcb733cfa&pos=8&abbucket=&clickTrackInfo=pvid%3A44ff2ae3-7e9c-4912-bb02-c36dcb733cfa&acm=icms-zebra-5000377-2586233.1003.1.2262802&scm=1007.17519.97321.0\n",
      "https://www.lazada.com.ph/products/sjcam-m20-gyro-mini-16mp-action-sport-camera-silver-i6599102-s8430436.html?abtest=&pvid=44ff2ae3-7e9c-4912-bb02-c36dcb733cfa&pos=9&abbucket=&clickTrackInfo=pvid%3A44ff2ae3-7e9c-4912-bb02-c36dcb733cfa&acm=icms-zebra-5000377-2586233.1003.1.2262802&scm=1007.17519.97321.0\n",
      "https://www.lazada.com.ph/products/new-polarized-holbrook-sunglasses-uv400-racing-rossi-ducati-men-vr46-moto-gp-oculus-de-sol-vr46-sunglasses-intl-i135963769-s152803799.html?abtest=&pvid=44ff2ae3-7e9c-4912-bb02-c36dcb733cfa&pos=10&abbucket=&clickTrackInfo=pvid%3A44ff2ae3-7e9c-4912-bb02-c36dcb733cfa&acm=icms-zebra-5000377-2586233.1003.1.2262802&scm=1007.17519.97321.0\n",
      "https://www.lazada.com.ph/products/american-tourister-air-force-spinner-55cm-exp-tsa-black-texture-i141825124-s161555156.html?abtest=&pvid=44ff2ae3-7e9c-4912-bb02-c36dcb733cfa&pos=11&abbucket=&clickTrackInfo=pvid%3A44ff2ae3-7e9c-4912-bb02-c36dcb733cfa&acm=icms-zebra-5000377-2586233.1003.1.2262802&scm=1007.17519.97321.0\n",
      "https://www.lazada.com.ph/products/all-inclusive-slip-resistant-polyester-slipcover-sofa-cover-foldable-without-armrest-sofa-bed-covers-intl-i157235319-s190349202.html?abtest=&pvid=44ff2ae3-7e9c-4912-bb02-c36dcb733cfa&pos=12&abbucket=&clickTrackInfo=pvid%3A44ff2ae3-7e9c-4912-bb02-c36dcb733cfa&acm=icms-zebra-5000377-2586233.1003.1.2262802&scm=1007.17519.97321.0\n",
      "https://www.lazada.com.ph/products/t601-call-center-customer-service-headset-headband-earphone-handsfree-for-pc-use-intl-i152437704-s180837354.html?abtest=&pvid=44ff2ae3-7e9c-4912-bb02-c36dcb733cfa&pos=13&abbucket=&clickTrackInfo=pvid%3A44ff2ae3-7e9c-4912-bb02-c36dcb733cfa&acm=icms-zebra-5000377-2586233.1003.1.2262802&scm=1007.17519.97321.0\n",
      "https://www.lazada.com.ph/products/electric-low-noise-animal-pet-dog-cat-hair-razor-grooming-trimmer-shaver-clipper-i6875737-s8768694.html?abtest=&pvid=44ff2ae3-7e9c-4912-bb02-c36dcb733cfa&pos=14&abbucket=&clickTrackInfo=pvid%3A44ff2ae3-7e9c-4912-bb02-c36dcb733cfa&acm=icms-zebra-5000377-2586233.1003.1.2262802&scm=1007.17519.97321.0\n",
      "https://www.lazada.com.ph/products/55-inch-full-lcd-displaytouch-screen-digitizer-assembly-for-huawei-y7-prime-2017-trt-tl00-nova-lite-trt-lx1-intl-i146964369-s171936351.html?abtest=&pvid=44ff2ae3-7e9c-4912-bb02-c36dcb733cfa&pos=15&abbucket=&clickTrackInfo=pvid%3A44ff2ae3-7e9c-4912-bb02-c36dcb733cfa&acm=icms-zebra-5000377-2586233.1003.1.2262802&scm=1007.17519.97321.0\n",
      "https://www.lazada.com.ph/products/choice-beautys-10pcs-kabuki-brush-set-with-pouch-goldblack-i126913634-s133325940.html?abtest=&pvid=44ff2ae3-7e9c-4912-bb02-c36dcb733cfa&pos=16&abbucket=&clickTrackInfo=pvid%3A44ff2ae3-7e9c-4912-bb02-c36dcb733cfa&acm=icms-zebra-5000377-2586233.1003.1.2262802&scm=1007.17519.97321.0\n",
      "https://www.lazada.com.ph/products/baby-game-kingdom-discover-n-grow-kick-and-play-piano-activity-play-gym-i100046574-s100060286.html?abtest=&pvid=44ff2ae3-7e9c-4912-bb02-c36dcb733cfa&pos=17&abbucket=&clickTrackInfo=pvid%3A44ff2ae3-7e9c-4912-bb02-c36dcb733cfa&acm=icms-zebra-5000377-2586233.1003.1.2262802&scm=1007.17519.97321.0\n",
      "https://www.lazada.com.ph/products/gpl-dove-mencare-body-and-face-bar-extra-fresh-4-oz-10-barship-from-usa-intl-i104346099-s104856428.html?abtest=&pvid=44ff2ae3-7e9c-4912-bb02-c36dcb733cfa&pos=18&abbucket=&clickTrackInfo=pvid%3A44ff2ae3-7e9c-4912-bb02-c36dcb733cfa&acm=icms-zebra-5000377-2586233.1003.1.2262802&scm=1007.17519.97321.0\n",
      "https://www.lazada.com.ph/products/areyourshop-51mm-handle-bar-clip-on-for-kawasaki-zx-6rzx636zx600-09-10-aprilia-rsv-mille-r-black-intl-i124520925-s130081756.html?abtest=&pvid=44ff2ae3-7e9c-4912-bb02-c36dcb733cfa&pos=19&abbucket=&clickTrackInfo=pvid%3A44ff2ae3-7e9c-4912-bb02-c36dcb733cfa&acm=icms-zebra-5000377-2586233.1003.1.2262802&scm=1007.17519.97321.0\n",
      "https://www.lazada.com.ph/products/toblerone-milk-chocolate-with-honey-and-almond-50g-set-of-6-i100246521-s100290324.html?abtest=&pvid=44ff2ae3-7e9c-4912-bb02-c36dcb733cfa&pos=20&abbucket=&clickTrackInfo=pvid%3A44ff2ae3-7e9c-4912-bb02-c36dcb733cfa&acm=icms-zebra-5000377-2586233.1003.1.2262802&scm=1007.17519.97321.0\n",
      "https://www.lazada.com.ph/products/esogoal-2017-fashion-lady-women-clutch-leather-long-wallet-card-holder-purse-bow-handbag-black-intl-i120879676-s125649104.html?abtest=&pvid=44ff2ae3-7e9c-4912-bb02-c36dcb733cfa&pos=21&abbucket=&clickTrackInfo=pvid%3A44ff2ae3-7e9c-4912-bb02-c36dcb733cfa&acm=icms-zebra-5000377-2586233.1003.1.2262802&scm=1007.17519.97321.0\n",
      "https://www.lazada.com.ph/products/red-sweet-wedding-dres-lace-flower-beading-crystal-wedding-dresses-red-white-wedding-gown-intl-i106946735-s107758081.html?abtest=&pvid=44ff2ae3-7e9c-4912-bb02-c36dcb733cfa&pos=22&abbucket=&clickTrackInfo=pvid%3A44ff2ae3-7e9c-4912-bb02-c36dcb733cfa&acm=icms-zebra-5000377-2586233.1003.1.2262802&scm=1007.17519.97321.0\n",
      "https://www.lazada.com.ph/products/5d-diamond-diy-full-pasted-shaped-diamond-maple-leaf-nine-fish-diamond-painting-mf10294-151-x-68cm-i142365810-s162365269.html?abtest=&pvid=44ff2ae3-7e9c-4912-bb02-c36dcb733cfa&pos=23&abbucket=&clickTrackInfo=pvid%3A44ff2ae3-7e9c-4912-bb02-c36dcb733cfa&acm=icms-zebra-5000377-2586233.1003.1.2262802&scm=1007.17519.97321.0\n",
      "https://www.lazada.com.ph/products/dessini-double-grill-pan-32cm-black-free-nagical-heat-bag-colors-may-vary-i250968-s333377.html?abtest=&pvid=44ff2ae3-7e9c-4912-bb02-c36dcb733cfa&pos=24&abbucket=&clickTrackInfo=pvid%3A44ff2ae3-7e9c-4912-bb02-c36dcb733cfa&acm=icms-zebra-5000377-2586233.1003.1.2262802&scm=1007.17519.97321.0\n"
     ]
    }
   ],
   "source": [
    "driver.get('https://web.archive.org/web/20211018201255/https://www.lazada.com.ph/#hp-just-for-you')\n",
    "\n",
    "link_elements = WebDriverWait(driver, 100).until(\n",
    "        EC.presence_of_all_elements_located((By.XPATH, \"//div[contains(@class,'card-jfy-item-wrapper')]/a\"))\n",
    "    )\n",
    "\n",
    "for link in link_elements:\n",
    "    print(link.get_attribute(\"href\"))"
   ]
  }
 ],
 "metadata": {
  "interpreter": {
   "hash": "2db524e06e9f5f4ffedc911c917cb75e12dbc923643829bf417064a77eb14d37"
  },
  "kernelspec": {
   "display_name": "Python 3.8.2 64-bit",
   "name": "python3"
  },
  "language_info": {
   "codemirror_mode": {
    "name": "ipython",
    "version": 3
   },
   "file_extension": ".py",
   "mimetype": "text/x-python",
   "name": "python",
   "nbconvert_exporter": "python",
   "pygments_lexer": "ipython3",
   "version": "3.8.2"
  },
  "orig_nbformat": 4
 },
 "nbformat": 4,
 "nbformat_minor": 2
}
