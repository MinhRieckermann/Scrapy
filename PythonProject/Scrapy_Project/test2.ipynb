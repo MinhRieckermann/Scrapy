{
 "cells": [
  {
   "cell_type": "code",
   "execution_count": 52,
   "metadata": {},
   "outputs": [],
   "source": [
    "from selenium import webdriver\n",
    "from selenium.webdriver.chrome import options\n",
    "from selenium.webdriver.chrome.options import Options\n",
    "from selenium.webdriver.common.keys import Keys\n",
    "from selenium.webdriver.common.by import By\n",
    "from selenium.webdriver.support.ui import WebDriverWait\n",
    "from selenium.webdriver.support import expected_conditions as EC\n",
    "from selenium.webdriver.common.action_chains import ActionChains\n",
    "\n",
    "import csv, os, time\n",
    "from datetime import datetime\n",
    "\n",
    "from datetime import timedelta, date\n",
    "from shutil import which\n",
    "start_date = date(2021, 10, 12)\n",
    "end_date = date(2014, 10, 12)\n",
    "currentTime = time.strftime(\"%Y-%m-%d_%Hh%Mm%Ss\")\n",
    "fileName = str(start_date.year)+\"-\"+str(start_date.month)+\"_\"+str(end_date.year)+\"-\"+str(end_date.month)+\"_curr\"+currentTime\n",
    "leagueNames = set()"
   ]
  },
  {
   "cell_type": "code",
   "execution_count": 53,
   "metadata": {},
   "outputs": [],
   "source": [
    "chrome_options=Options()\n",
    "#chrome_options.add_argument(\"--headless\")\n",
    "chrome_path=which(\"chromedriver\")\n",
    "driver=webdriver.Chrome(executable_path=chrome_path,options=chrome_options)"
   ]
  },
  {
   "cell_type": "code",
   "execution_count": 54,
   "metadata": {},
   "outputs": [],
   "source": [
    "def daterange(start_date, end_date):\n",
    "    for n in range(int ((end_date - start_date).days)):\n",
    "        yield start_date + timedelta(n)\n",
    "\n"
   ]
  },
  {
   "cell_type": "code",
   "execution_count": 55,
   "metadata": {},
   "outputs": [],
   "source": [
    "\n",
    "\n",
    "url='https://www.sofascore.com/football/{0}-{1}-{2}'.format(str(date.today().year),str(date.today().month).zfill(2),str(date.today().day).zfill(2))\n",
    "driver.get(url)"
   ]
  },
  {
   "cell_type": "code",
   "execution_count": 31,
   "metadata": {},
   "outputs": [
    {
     "name": "stdout",
     "output_type": "stream",
     "text": [
      "day_month_year: 2021-10-12\n"
     ]
    }
   ],
   "source": [
    "import datetime\n",
    "\n",
    "now = datetime.datetime.now()\n",
    "year = '{:02d}'.format(now.year)\n",
    "month = '{:02d}'.format(now.month)\n",
    "day = '{:02d}'.format(now.day)\n",
    "hour = '{:02d}'.format(now.hour)\n",
    "minute = '{:02d}'.format(now.minute)\n",
    "day_month_year = '{}-{}-{}'.format(year, month, day)\n",
    "\n",
    "print('day_month_year: ' + day_month_year)"
   ]
  }
 ],
 "metadata": {
  "interpreter": {
   "hash": "2db524e06e9f5f4ffedc911c917cb75e12dbc923643829bf417064a77eb14d37"
  },
  "kernelspec": {
   "display_name": "Python 3.8.2 64-bit",
   "name": "python3"
  },
  "language_info": {
   "codemirror_mode": {
    "name": "ipython",
    "version": 3
   },
   "file_extension": ".py",
   "mimetype": "text/x-python",
   "name": "python",
   "nbconvert_exporter": "python",
   "pygments_lexer": "ipython3",
   "version": "3.8.2"
  },
  "orig_nbformat": 4
 },
 "nbformat": 4,
 "nbformat_minor": 2
}
