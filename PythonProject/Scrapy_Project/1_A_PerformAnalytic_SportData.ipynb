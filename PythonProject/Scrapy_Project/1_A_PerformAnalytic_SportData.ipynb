{
 "cells": [
  {
   "cell_type": "code",
   "execution_count": 18,
   "metadata": {},
   "outputs": [
    {
     "name": "stdout",
     "output_type": "stream",
     "text": [
      "0             NaN\n",
      "1     round_match\n",
      "2             NaN\n",
      "3             NaN\n",
      "4             NaN\n",
      "5             NaN\n",
      "6             NaN\n",
      "7             NaN\n",
      "8             NaN\n",
      "9             NaN\n",
      "10            NaN\n",
      "11            NaN\n",
      "12            NaN\n",
      "Name: 22, dtype: object\n"
     ]
    }
   ],
   "source": [
    "import os \n",
    "import numpy as np\n",
    "import pandas as pd\n",
    "import matplotlib as plt\n",
    "import re\n",
    "from functools import reduce\n",
    "# Replace 'your_excel_file.xlsx' with the actual path to your Excel file\n",
    "excel_file_path = '1_outputMexico_Apuetra2023_data.xlsx'\n",
    "# Read the Excel file into a DataFrame, skipping the first row (header) and the empty columns\n",
    "df = pd.read_excel(excel_file_path, header=None)\n",
    "\n",
    "\n",
    "# Print the resulting DataFrame\n",
    "#print(df.columns)\n",
    "\n",
    "\n",
    "# Drop the first column (index 0) from the DataFrame\n",
    "df = df.drop(0, axis=1)\n",
    "# Update NaN values in df.iloc[1] with values from df.iloc[0]\n",
    "df.iloc[1] = df.iloc[1].fillna(df.iloc[0])\n",
    "\n",
    "# Update values in df.iloc[1] based on conditions\n",
    "for column in range(1, len(df.columns) - 1):\n",
    "    if df.iloc[1, column] == True or df.iloc[1, column] == 1.0:\n",
    "        df.iloc[1, column] = str(df.iloc[1, column]) + '_' + str(df.iloc[1, column + 1])\n",
    "\n",
    "\n",
    "\n",
    "# Copy the first column to a new column named \"round_match\" in the first row\n",
    "df.loc[1, \"22\"] = df.loc[0, 1]\n",
    "\n",
    "print(df['22'])\n",
    "\n",
    "# # Drop row df.iloc[2]\n",
    "# df = df.drop(2)\n",
    "\n",
    "# # Reset the DataFrame index\n",
    "# df.reset_index(drop=True, inplace=True)\n",
    "\n",
    "\n",
    "# # Set df.iloc[1] as the column names\n",
    "# df.columns = df.iloc[1]\n",
    "\n",
    "# # Drop df.iloc[0]\n",
    "# df = df.drop(1)\n",
    "\n",
    "\n",
    "# # Reset the DataFrame index\n",
    "# df.reset_index(drop=True, inplace=True)\n",
    "# print (df.iloc[0])"
   ]
  }
 ],
 "metadata": {
  "kernelspec": {
   "display_name": "Python 3",
   "language": "python",
   "name": "python3"
  },
  "language_info": {
   "codemirror_mode": {
    "name": "ipython",
    "version": 3
   },
   "file_extension": ".py",
   "mimetype": "text/x-python",
   "name": "python",
   "nbconvert_exporter": "python",
   "pygments_lexer": "ipython3",
   "version": "3.10.11"
  },
  "orig_nbformat": 4
 },
 "nbformat": 4,
 "nbformat_minor": 2
}
