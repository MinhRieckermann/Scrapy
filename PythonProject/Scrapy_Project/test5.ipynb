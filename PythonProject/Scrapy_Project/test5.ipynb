{
 "cells": [
  {
   "cell_type": "code",
   "execution_count": 1,
   "metadata": {},
   "outputs": [
    {
     "name": "stdout",
     "output_type": "stream",
     "text": [
      "football_Mexico_Expansion2_data.csv\n",
      "       round_match       Over70 round_match       NOGoalH2\n",
      "Over70       False True               False True          \n",
      "index                                                     \n",
      "1                3    5  Over70         5.0  3.0  NOGoalH2\n",
      "2                2    7  Over70         9.0  0.0  NOGoalH2\n",
      "3                2    7  Over70         8.0  1.0  NOGoalH2\n",
      "4                6    3  Over70         6.0  3.0  NOGoalH2\n",
      "5                3    6  Over70         9.0  0.0  NOGoalH2\n",
      "6                2    7  Over70         9.0  0.0  NOGoalH2\n",
      "7                4    5  Over70         7.0  2.0  NOGoalH2\n",
      "8                5    4  Over70         6.0  3.0  NOGoalH2\n",
      "9                3    6  Over70         8.0  1.0  NOGoalH2\n",
      "10               4    5  Over70         8.0  1.0  NOGoalH2\n",
      "11               3    6  Over70         7.0  2.0  NOGoalH2\n",
      "12               1    4  Over70         5.0  0.0  NOGoalH2\n"
     ]
    }
   ],
   "source": [
    "import os \n",
    "import numpy as np\n",
    "import pandas as pd\n",
    "import matplotlib as plt\n",
    "import re\n",
    "from functools import reduce\n",
    "\n",
    "filename=input('please key in the file name: ')\n",
    "#input('please key in the file name: ')\n",
    "print(filename)\n",
    "df =pd.read_csv(filename)\n",
    "df=df[df['DetailScore'] != \"('link error',)\"]\n",
    "df=df[df['status_match'] == \"FT\"]\n",
    "re_char={\"'\":\"\",\",\":\"\",\"(\":\"\",\")\":\"\",\";\":\" \",\"-\":\" \"}\n",
    "df['score']=df['DetailScore'].map(lambda a: (''.join(re_char.get(x, x) for x in str(a))) )\n",
    "df['MaximumGoal']= df['score'].apply(lambda a : max(map(int,[e for e in re.split(\"[^0-9]\",str(a)) if e !='']),default=0))\n",
    "df['Over70']= df['score'].apply(lambda a :any(int(item)>70 for item in str(a).split()))\n",
    "df['NOGoalH2']=df['MaximumGoal'].map(lambda a : int(a)<=45)\n",
    "df['index']=df['round_match'].apply(lambda round: round.split()[1].replace(\" \",\"\"))\n",
    "# #print(df['index'])\n",
    "df['index']=pd.to_numeric(df['index'])\n",
    "\n",
    "df_sorted=df.sort_values(by=['index'],ascending=False)\n",
    "\n",
    "\n",
    "\n",
    "\n",
    "# result = [e for e in re.split(\"[^0-9]\", \"I saw 3 dogs, 17 cats, and 14 cows!\") if e != '']\n",
    "\n",
    "# # list 'result' elements are strings: ['3', '17', '14'], so we use map(int, list) to get integers\n",
    "# print (max(map(int, [e for e in re.split(\"[^0-9]\",str(score)) if e != ''])))\n",
    "\n",
    "\n",
    "\n",
    "match=df_sorted #[df_sorted['Over70']==True]\n",
    "\n",
    "matchover70byround=match.groupby(['round_match','index','Over70']).count()['FTResult'].unstack().fillna(0)\n",
    "matchNoGoalH2byround=match.groupby(['round_match','index','NOGoalH2']).count()['FTResult'].unstack().fillna(0)\n",
    "matchover70byround.sort_values(by='index')\n",
    "#print(matchNoGoalH2byround.sort_values(by='index'))\n",
    "#matchNoGoalH2byround.info()\n",
    "over70=match[['round_match','index','Over70']].groupby(['index','Over70']).count().unstack().fillna(0)\n",
    "GoalH2=match[['round_match','index','NOGoalH2']].groupby(['index','NOGoalH2']).count().unstack().fillna(0)\n",
    "#over70['key1']=over70.index\n",
    "over70['Over70']='Over70'\n",
    "#GoalH2['key2']=GoalH2.index\n",
    "GoalH2['NOGoalH2']='NOGoalH2'\n",
    "# print(over70.sort_values(by='index'))\n",
    "# print(GoalH2.sort_values(by='index'))\n",
    "result=pd.concat([over70.sort_values(by='index'),GoalH2.sort_values(by='index')],axis=1,join=\"inner\")\n",
    "print(result)\n",
    "\n",
    "# result_dropdupindex = result.loc[~result.index.duplicated(),:].copy()\n",
    "# result_dropdupindex.sort_values(\"(key_index1, )\")\n",
    "#result_dropdupindex.info()\n",
    "#print(result_dropdupindex.sort_values(by=result_dropdupindex['key_index1'],axis=1,ascending=False))\n",
    "# df_round4=df_sorted[df_sorted.round_match=='Round 4']\n",
    "\n",
    "# df_round4[['round_match','MaximumGoal','score','Over70','NOGoalH2']]"
   ]
  }
 ],
 "metadata": {
  "interpreter": {
   "hash": "9650cb4e16cdd4a8e8e2d128bf38d875813998db22a3c986335f89e0cb4d7bb2"
  },
  "kernelspec": {
   "display_name": "Python 3.8.2 64-bit",
   "language": "python",
   "name": "python3"
  },
  "language_info": {
   "codemirror_mode": {
    "name": "ipython",
    "version": 3
   },
   "file_extension": ".py",
   "mimetype": "text/x-python",
   "name": "python",
   "nbconvert_exporter": "python",
   "pygments_lexer": "ipython3",
   "version": "3.8.2"
  },
  "orig_nbformat": 4
 },
 "nbformat": 4,
 "nbformat_minor": 2
}
